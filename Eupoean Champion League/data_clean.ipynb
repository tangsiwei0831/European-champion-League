{
 "metadata": {
  "language_info": {
   "codemirror_mode": {
    "name": "ipython",
    "version": 3
   },
   "file_extension": ".py",
   "mimetype": "text/x-python",
   "name": "python",
   "nbconvert_exporter": "python",
   "pygments_lexer": "ipython3",
   "version": "3.8.5-final"
  },
  "orig_nbformat": 2,
  "kernelspec": {
   "name": "python3",
   "display_name": "Python 3"
  }
 },
 "nbformat": 4,
 "nbformat_minor": 2,
 "cells": [
  {
   "cell_type": "code",
   "execution_count": 511,
   "metadata": {},
   "outputs": [],
   "source": [
    "# Import \n",
    "import pandas as pd\n",
    "import numpy as np"
   ]
  },
  {
   "cell_type": "code",
   "execution_count": 512,
   "metadata": {},
   "outputs": [],
   "source": [
    "column_names = ['common_name', 'season', 'matches_played', 'wins', 'draws', 'losses', 'league_position', 'goals_scored', 'goals_conceded', 'goal_difference']\n",
    "countries = ['england', 'france', 'germany', 'italy', 'spain']\n",
    "league = {\n",
    "        'england': 'premier-league',\n",
    "        'france': 'ligue-1',\n",
    "        'germany': 'bundesliga',\n",
    "        'italy': 'serie-a',\n",
    "        'spain': 'la-liga'\n",
    "    }\n",
    "seasons = [year for year in range(2010, 2020)]\n",
    "match_column_names = ['home_team_name', 'away_team_name', 'home_team_goal_count', 'away_team_goal_count', 'season']"
   ]
  },
  {
   "cell_type": "code",
   "execution_count": 513,
   "metadata": {},
   "outputs": [],
   "source": [
    "def clean_league_data():\n",
    "    countries_column_names = ['cID', 'country_name', 'number_of_teams']\n",
    "    teams_column_names = ['tID', 'cID', 'common_name']\n",
    "    all_teams = pd.DataFrame(columns = teams_column_names)\n",
    "    all_countries = pd.DataFrame(columns = countries_column_names)\n",
    "    for c_id in range(len(countries)):\n",
    "        country = countries[c_id]\n",
    "        full_df = pd.DataFrame(columns = column_names)\n",
    "        for season in seasons:\n",
    "            address = '{folder}/{country}-{league}-teams-{start}-to-{end}-stats.csv'.format(folder = country, country = country, league = league[country], start = season, end = season + 1)\n",
    "            try:\n",
    "                temp_df = pd.read_csv(address)[column_names]\n",
    "                full_df = pd.concat([full_df, temp_df])\n",
    "            except FileNotFoundError:\n",
    "                print('{league} in {season} is not found'.format(league = league[country], season = season))\n",
    "        full_df['season'] = full_df['season'].str[:4]\n",
    "        full_df.to_csv('cleaned_data/{league}.csv'.format(league = league[country]), index=False)\n",
    "        number_of_teams = full_df['common_name'].nunique() \n",
    "        teams = full_df['common_name'].unique() \n",
    "        country_dict = {\n",
    "            'cID' : [c_id],\n",
    "            'country_name' : [country],\n",
    "            'number_of_teams': [number_of_teams]\n",
    "        }\n",
    "        all_countries = all_countries.append(pd.DataFrame(country_dict))\n",
    "        team_dict = {\n",
    "            'tID': [0 for i in range(number_of_teams)],\n",
    "            'common_name':  list(teams),\n",
    "            'cID': [c_id for i in range(number_of_teams)]\n",
    "        }\n",
    "        all_teams = all_teams.append(pd.DataFrame(team_dict))\n",
    "    all_countries.to_csv('cleaned_data/countries.csv', index=False)\n",
    "    all_teams.to_csv('cleaned_data/teams.csv', index=False)"
   ]
  },
  {
   "cell_type": "code",
   "execution_count": 514,
   "metadata": {},
   "outputs": [
    {
     "output_type": "stream",
     "name": "stdout",
     "text": [
      "serie-a in 2010 is not found\n"
     ]
    }
   ],
   "source": [
    "clean_league_data()"
   ]
  },
  {
   "cell_type": "code",
   "execution_count": 515,
   "metadata": {},
   "outputs": [],
   "source": [
    "def clean_champion_league_data():\n",
    "    if 'league_position' in column_names:\n",
    "        column_names.remove('league_position')\n",
    "    for competition in ['europa-league', 'champions-league']:\n",
    "        full_df_team = pd.DataFrame(columns = column_names)\n",
    "        full_df_match = pd.DataFrame(columns = match_column_names)\n",
    "        for season in seasons:\n",
    "            address_team = '{folder}_team/europe-uefa-{competition}-teams-{start}-to-{end}-stats.csv'.format(folder = competition, competition = competition, start = season, end = season + 1)\n",
    "            try:\n",
    "                temp_df_team = pd.read_csv(address_team)\n",
    "                temp_df_team['season'] = season\n",
    "                temp_df_team = temp_df_team.loc[temp_df_team['country'].str.lower().isin(countries)][column_names]\n",
    "                full_df_team = pd.concat([full_df_team, temp_df_team])\n",
    "            except FileNotFoundError:\n",
    "                 print('{competition} in {season} is not found (teams)'.format(competition = competition, season = season))\n",
    "\n",
    "            address_match = '{folder}_match/europe-uefa-{competition}-matches-{start}-to-{end}-stats.csv'.format(folder = competition, competition = competition, start = season, end = season + 1)\n",
    "            try:\n",
    "                temp_df_match = pd.read_csv(address_match)\n",
    "                temp_df_match['season'] = season\n",
    "                temp_df_match = temp_df_match[match_column_names]\n",
    "                full_df_match = pd.concat([full_df_match, temp_df_match])\n",
    "            except FileNotFoundError:\n",
    "                print('{competition} in {season} is not found (competition)'.\\\n",
    "                format(competition = competition,season = season)) \n",
    "        full_df_team.to_csv('cleaned_data/{competition}_team.csv'.\\\n",
    "        format(competition = competition), index = False)\n",
    "        full_df_match.to_csv('cleaned_data/{competition}_match.csv'.\\\n",
    "        format(competition = competition), index = False)"
   ]
  },
  {
   "cell_type": "code",
   "execution_count": 516,
   "metadata": {},
   "outputs": [
    {
     "output_type": "stream",
     "name": "stdout",
     "text": [
      "europa-league in 2015 is not found (teams)\n",
      "europa-league in 2015 is not found (competition)\n",
      "champions-league in 2019 is not found (competition)\n"
     ]
    }
   ],
   "source": [
    "clean_champion_league_data()"
   ]
  },
  {
   "cell_type": "code",
   "execution_count": 517,
   "metadata": {},
   "outputs": [],
   "source": [
    "data = pd.read_csv('cleaned_data/champions-league_team.csv')"
   ]
  },
  {
   "cell_type": "code",
   "execution_count": 518,
   "metadata": {},
   "outputs": [],
   "source": [
    "# Create a database of all teams\n",
    "def team_data():\n",
    "    teams = []\n",
    "    leagues = list(league.values())\n",
    "    country = []\n",
    "    team_country_table = {}\n",
    "    for l in range(5):\n",
    "        teams_in_league = set(pd.read_csv('cleaned_data/{le}.csv'.format(le = leagues[l]))['common_name'])\n",
    "        teams = teams + list(teams_in_league)\n",
    "        team_country_table[leagues[l]] = teams_in_league\n",
    "        country.extend([l for i in range(len(teams_in_league))])\n",
    "    team_data = pd.DataFrame(data = {'name': list(teams), 'cID': country})\n",
    "    team_data= team_data.sort_values(by=['name'])\n",
    "    team_data['tID'] = np.arange(1, len(team_data) + 1)\n",
    "    team_data = team_data[['tID', 'cID', 'name']]\n",
    "    team_data.to_csv('cleaned_data/team.csv', index = False)"
   ]
  },
  {
   "cell_type": "code",
   "execution_count": 519,
   "metadata": {},
   "outputs": [],
   "source": [
    "team_data()"
   ]
  },
  {
   "cell_type": "code",
   "execution_count": 520,
   "metadata": {},
   "outputs": [],
   "source": [
    "# Apply index to all datasets\n",
    "# Champions league \n",
    "def modify_name():\n",
    "    team_data = pd.read_csv('cleaned_data/team.csv')\n",
    "    for competition in ['europa-league_team', 'champions-league_team', 'premier-league', 'ligue-1', 'bundesliga',\\\n",
    "        'serie-a', 'la-liga']:\n",
    "        competition_data = pd.read_csv('cleaned_data/{c}.csv'.format(c = competition))\n",
    "        competition_data = team_data.merge(competition_data, \\\n",
    "            left_on='name', right_on='common_name', left_index=False, right_index = False)\n",
    "        competition_data = competition_data.drop(columns = ['common_name', 'name'])   \n",
    "        competition_data.to_csv('cleaned_data/{c}.csv'.format(c = competition), index = False)\n",
    "    for match in ['champions-league_match', 'europa-league_match']:\n",
    "        match_data = pd.read_csv('cleaned_data/{c}.csv'.format(c = match))\n",
    "        match_data = match_data.merge(team_data, left_on='home_team_name', right_on='name').\\\n",
    "            drop(['home_team_name', 'name'], axis = 1).rename(columns = {'tID': 'home_team', 'cID': 'home_country'})\n",
    "        match_data = match_data.merge(team_data, left_on='away_team_name', right_on='name').\\\n",
    "            drop(['away_team_name', 'name'],axis = 1).rename(columns = {'tID': 'away_team', 'cID': 'away_country'})\n",
    "        match_data.to_csv('cleaned_data/{c}.csv'.format(c = match), index = False)"
   ]
  },
  {
   "cell_type": "code",
   "execution_count": 521,
   "metadata": {},
   "outputs": [],
   "source": [
    "modify_name()"
   ]
  },
  {
   "cell_type": "code",
   "execution_count": 522,
   "metadata": {},
   "outputs": [],
   "source": [
    "champion_league_team  = pd.read_csv('cleaned_data/champions-league_team.csv')\n",
    "europa_league_team = pd.read_csv('cleaned_data/europa-league_team.csv')"
   ]
  },
  {
   "cell_type": "code",
   "execution_count": 523,
   "metadata": {},
   "outputs": [
    {
     "output_type": "execute_result",
     "data": {
      "text/plain": [
       "cID\n",
       "0    0.507979\n",
       "1    0.388601\n",
       "2    0.505988\n",
       "3    0.418327\n",
       "4    0.553922\n",
       "dtype: float64"
      ]
     },
     "metadata": {},
     "execution_count": 523
    }
   ],
   "source": [
    "# dic = {'premier-league' : 0, 'ligue-1': 1, 'bundesliga': 2, 'serie-a': 3, 'la-liga': 4}\n",
    "champion_league_team.groupby(['cID']).apply(lambda x : sum(x['wins'] / sum(x['matches_played'])))"
   ]
  },
  {
   "cell_type": "code",
   "execution_count": 524,
   "metadata": {},
   "outputs": [
    {
     "output_type": "execute_result",
     "data": {
      "text/plain": [
       "cID\n",
       "0    0.546075\n",
       "1    0.405063\n",
       "2    0.472325\n",
       "3    0.467290\n",
       "4    0.575221\n",
       "dtype: float64"
      ]
     },
     "metadata": {},
     "execution_count": 524
    }
   ],
   "source": [
    "europa_league_team.groupby(['cID']).apply(lambda x : sum(x['wins'] / sum(x['matches_played'])))"
   ]
  },
  {
   "cell_type": "code",
   "execution_count": 525,
   "metadata": {},
   "outputs": [],
   "source": [
    "europa_league_match = pd.read_csv('cleaned_data/champions-league_match.csv')"
   ]
  },
  {
   "cell_type": "code",
   "execution_count": 526,
   "metadata": {},
   "outputs": [],
   "source": [
    "def grouped():\n",
    "    for competition in ['europa-league_match', 'champions-league_match']:\n",
    "        match_df = pd.read_csv('cleaned_data/{c}.csv'.format(c = competition))\n",
    "        match_df['win_team'] = europa_league_match.apply(lambda x: 'home' \\\n",
    "            if x['home_team_goal_count'] > x['away_team_goal_count'] else ('draw' if x['home_team_goal_count']\\\n",
    "                == x['away_team_goal_count'] else 'away'), axis = 1)\n",
    "        matchdf_grouped = match_df.groupby(['home_country', 'away_country'])\n",
    "        print(matchdf_grouped.apply(lambda x : (len(x), sum(x['win_team'] == 'home'), sum(x['win_team'] == 'away'),\\\n",
    "             sum(x['win_team'] == 'draw'))))"
   ]
  },
  {
   "cell_type": "code",
   "execution_count": 527,
   "metadata": {},
   "outputs": [
    {
     "output_type": "stream",
     "name": "stdout",
     "text": [
      "home_country  away_country\n0             0                (1, 1, 0, 0)\n              1                (6, 4, 1, 1)\n              2                (4, 2, 0, 2)\n              3               (12, 9, 0, 3)\n              4                (8, 6, 2, 0)\n1             0                (6, 4, 1, 1)\n              2               (10, 5, 4, 1)\n              3                (9, 3, 4, 2)\n              4                (9, 2, 4, 3)\n2             0                (4, 2, 2, 0)\n              1               (10, 4, 3, 3)\n              2                (2, 0, 2, 0)\n              3               (10, 5, 3, 2)\n              4               (12, 6, 6, 0)\n3             0               (12, 7, 4, 1)\n              1                (9, 2, 5, 2)\n              2               (11, 4, 4, 3)\n              3                (4, 1, 3, 0)\n              4               (10, 5, 2, 3)\n4             0                (8, 3, 3, 2)\n              1                (8, 3, 2, 3)\n              2               (12, 4, 7, 1)\n              3               (11, 6, 3, 2)\n              4               (11, 3, 5, 3)\ndtype: object\nhome_country  away_country\n0             0                  (7, 4, 3, 0)\n              1                 (16, 8, 5, 3)\n              2                (29, 18, 7, 4)\n              3                 (17, 9, 3, 5)\n              4               (28, 10, 10, 8)\n1             0                 (16, 6, 5, 5)\n              2                 (14, 6, 5, 3)\n              3                  (9, 1, 6, 2)\n              4                 (18, 4, 8, 6)\n2             0                (30, 9, 14, 7)\n              1                 (14, 7, 4, 3)\n              2                  (1, 0, 1, 0)\n              3                (14, 10, 2, 2)\n              4                (30, 18, 9, 3)\n3             0                (17, 11, 5, 1)\n              1                  (9, 7, 0, 2)\n              2                 (14, 7, 4, 3)\n              4                (28, 8, 8, 12)\n4             0                (30, 17, 4, 9)\n              1                (18, 14, 3, 1)\n              2                (30, 18, 5, 7)\n              3                (26, 19, 4, 3)\n              4                 (12, 7, 1, 4)\ndtype: object\n"
     ]
    }
   ],
   "source": [
    "# dic = {'premier-league' : 0, 'ligue-1': 1, 'bundesliga': 2, 'serie-a': 3, 'la-liga': 4}\n",
    "grouped()"
   ]
  },
  {
   "source": [
    "# change order of columns \n",
    "def change_order():\n",
    "    for l in league.values():\n",
    "        modified = pd.read_csv('cleaned_data/{league}.csv'.format(league = l))[['tID', 'season', \\\n",
    "            'matches_played', 'wins', 'draws', 'losses', 'goals_scored', 'goals_conceded', 'goal_difference',\\\n",
    "                'league_position']]\n",
    "        modified.to_csv('cleaned_data/{league}.csv'.format(league = l), index = False)\n",
    "    for match in ['europa-league_match', 'champions-league_match']:\n",
    "        match_df = pd.read_csv('cleaned_data/{c}.csv'.format(c = match))[['home_team', 'away_team',\\\n",
    "             'season', 'home_team_goal_count', 'away_team_goal_count']]\n",
    "        match_df.to_csv('cleaned_data/{league}.csv'.format(league = match), index = False)  \n",
    "    for team in ['europa-league_team', 'champions-league_team']:\n",
    "        team_df = pd.read_csv('cleaned_data/{team}.csv'.format(team = team))[['tID', 'season', \\\n",
    "            'matches_played', 'wins', 'draws', 'losses', 'goals_scored', 'goals_conceded', 'goal_difference']]\n",
    "        team_df.to_csv('cleaned_data/{team}.csv'.format(team = team), index = False)  "
   ],
   "cell_type": "code",
   "metadata": {},
   "execution_count": 528,
   "outputs": []
  },
  {
   "cell_type": "code",
   "execution_count": 529,
   "metadata": {},
   "outputs": [],
   "source": [
    "change_order()"
   ]
  },
  {
   "cell_type": "code",
   "execution_count": 530,
   "metadata": {},
   "outputs": [
    {
     "output_type": "execute_result",
     "data": {
      "text/plain": [
       "     tID     season  matches_played  wins  draws  losses  goals_scored  \\\n",
       "0      1  2017/2018              14     9      2       3            28   \n",
       "1      1  2018/2019               6     3      1       2            12   \n",
       "2      8  2017/2018              14     8      3       3            30   \n",
       "3      8  2018/2019              15    11      1       3            30   \n",
       "4      8  2019/2020               8     4      2       2            16   \n",
       "..   ...        ...             ...   ...    ...     ...           ...   \n",
       "161  161  2016/2017               4     1      1       2             5   \n",
       "162  162  2013/2014               6     1      2       3             6   \n",
       "163  163  2014/2015              12     6      3       3            24   \n",
       "164  163  2019/2020              10     5      2       3            15   \n",
       "165  164  2019/2020              17    12      2       3            38   \n",
       "\n",
       "     goals_conceded  goal_difference  \n",
       "0                11               17  \n",
       "1                 9                3  \n",
       "2                12               18  \n",
       "3                13               17  \n",
       "4                 9                7  \n",
       "..              ...              ...  \n",
       "161               4                1  \n",
       "162               7               -1  \n",
       "163              18                6  \n",
       "164              13                2  \n",
       "165              14               24  \n",
       "\n",
       "[166 rows x 9 columns]"
      ],
      "text/html": "<div>\n<style scoped>\n    .dataframe tbody tr th:only-of-type {\n        vertical-align: middle;\n    }\n\n    .dataframe tbody tr th {\n        vertical-align: top;\n    }\n\n    .dataframe thead th {\n        text-align: right;\n    }\n</style>\n<table border=\"1\" class=\"dataframe\">\n  <thead>\n    <tr style=\"text-align: right;\">\n      <th></th>\n      <th>tID</th>\n      <th>season</th>\n      <th>matches_played</th>\n      <th>wins</th>\n      <th>draws</th>\n      <th>losses</th>\n      <th>goals_scored</th>\n      <th>goals_conceded</th>\n      <th>goal_difference</th>\n    </tr>\n  </thead>\n  <tbody>\n    <tr>\n      <th>0</th>\n      <td>1</td>\n      <td>2017/2018</td>\n      <td>14</td>\n      <td>9</td>\n      <td>2</td>\n      <td>3</td>\n      <td>28</td>\n      <td>11</td>\n      <td>17</td>\n    </tr>\n    <tr>\n      <th>1</th>\n      <td>1</td>\n      <td>2018/2019</td>\n      <td>6</td>\n      <td>3</td>\n      <td>1</td>\n      <td>2</td>\n      <td>12</td>\n      <td>9</td>\n      <td>3</td>\n    </tr>\n    <tr>\n      <th>2</th>\n      <td>8</td>\n      <td>2017/2018</td>\n      <td>14</td>\n      <td>8</td>\n      <td>3</td>\n      <td>3</td>\n      <td>30</td>\n      <td>12</td>\n      <td>18</td>\n    </tr>\n    <tr>\n      <th>3</th>\n      <td>8</td>\n      <td>2018/2019</td>\n      <td>15</td>\n      <td>11</td>\n      <td>1</td>\n      <td>3</td>\n      <td>30</td>\n      <td>13</td>\n      <td>17</td>\n    </tr>\n    <tr>\n      <th>4</th>\n      <td>8</td>\n      <td>2019/2020</td>\n      <td>8</td>\n      <td>4</td>\n      <td>2</td>\n      <td>2</td>\n      <td>16</td>\n      <td>9</td>\n      <td>7</td>\n    </tr>\n    <tr>\n      <th>...</th>\n      <td>...</td>\n      <td>...</td>\n      <td>...</td>\n      <td>...</td>\n      <td>...</td>\n      <td>...</td>\n      <td>...</td>\n      <td>...</td>\n      <td>...</td>\n    </tr>\n    <tr>\n      <th>161</th>\n      <td>161</td>\n      <td>2016/2017</td>\n      <td>4</td>\n      <td>1</td>\n      <td>1</td>\n      <td>2</td>\n      <td>5</td>\n      <td>4</td>\n      <td>1</td>\n    </tr>\n    <tr>\n      <th>162</th>\n      <td>162</td>\n      <td>2013/2014</td>\n      <td>6</td>\n      <td>1</td>\n      <td>2</td>\n      <td>3</td>\n      <td>6</td>\n      <td>7</td>\n      <td>-1</td>\n    </tr>\n    <tr>\n      <th>163</th>\n      <td>163</td>\n      <td>2014/2015</td>\n      <td>12</td>\n      <td>6</td>\n      <td>3</td>\n      <td>3</td>\n      <td>24</td>\n      <td>18</td>\n      <td>6</td>\n    </tr>\n    <tr>\n      <th>164</th>\n      <td>163</td>\n      <td>2019/2020</td>\n      <td>10</td>\n      <td>5</td>\n      <td>2</td>\n      <td>3</td>\n      <td>15</td>\n      <td>13</td>\n      <td>2</td>\n    </tr>\n    <tr>\n      <th>165</th>\n      <td>164</td>\n      <td>2019/2020</td>\n      <td>17</td>\n      <td>12</td>\n      <td>2</td>\n      <td>3</td>\n      <td>38</td>\n      <td>14</td>\n      <td>24</td>\n    </tr>\n  </tbody>\n</table>\n<p>166 rows × 9 columns</p>\n</div>"
     },
     "metadata": {},
     "execution_count": 530
    }
   ],
   "source": [
    "pd.read_csv('cleaned_data/europa-league_team.csv')"
   ]
  },
  {
   "cell_type": "code",
   "execution_count": 531,
   "metadata": {},
   "outputs": [
    {
     "output_type": "execute_result",
     "data": {
      "text/plain": [
       "     tID  season  matches_played  wins  draws  losses  goals_scored  \\\n",
       "0      4    2010              38     6     12      20            36   \n",
       "1      4    2013              38    11      7      20            43   \n",
       "2      4    2014              38     8      8      22            35   \n",
       "3     11    2010              38    18      4      16            59   \n",
       "4     11    2011              38    12     13      13            49   \n",
       "..   ...     ...             ...   ...    ...     ...           ...   \n",
       "195  157    2015              38    18     10      10            44   \n",
       "196  157    2016              38    19     10       9            56   \n",
       "197  157    2017              38    18      7      13            57   \n",
       "198  157    2018              38    10     14      14            49   \n",
       "199  157    2019              38    18      6      14            63   \n",
       "\n",
       "     goals_conceded  goal_difference  league_position  \n",
       "0                70              -34               20  \n",
       "1                71              -28               17  \n",
       "2                64              -29               19  \n",
       "3                55                4                6  \n",
       "4                52               -3               10  \n",
       "..              ...              ...              ...  \n",
       "195              35                9                4  \n",
       "196              33               23                5  \n",
       "197              50                7                5  \n",
       "198              52               -3               14  \n",
       "199              49               14                5  \n",
       "\n",
       "[200 rows x 10 columns]"
      ],
      "text/html": "<div>\n<style scoped>\n    .dataframe tbody tr th:only-of-type {\n        vertical-align: middle;\n    }\n\n    .dataframe tbody tr th {\n        vertical-align: top;\n    }\n\n    .dataframe thead th {\n        text-align: right;\n    }\n</style>\n<table border=\"1\" class=\"dataframe\">\n  <thead>\n    <tr style=\"text-align: right;\">\n      <th></th>\n      <th>tID</th>\n      <th>season</th>\n      <th>matches_played</th>\n      <th>wins</th>\n      <th>draws</th>\n      <th>losses</th>\n      <th>goals_scored</th>\n      <th>goals_conceded</th>\n      <th>goal_difference</th>\n      <th>league_position</th>\n    </tr>\n  </thead>\n  <tbody>\n    <tr>\n      <th>0</th>\n      <td>4</td>\n      <td>2010</td>\n      <td>38</td>\n      <td>6</td>\n      <td>12</td>\n      <td>20</td>\n      <td>36</td>\n      <td>70</td>\n      <td>-34</td>\n      <td>20</td>\n    </tr>\n    <tr>\n      <th>1</th>\n      <td>4</td>\n      <td>2013</td>\n      <td>38</td>\n      <td>11</td>\n      <td>7</td>\n      <td>20</td>\n      <td>43</td>\n      <td>71</td>\n      <td>-28</td>\n      <td>17</td>\n    </tr>\n    <tr>\n      <th>2</th>\n      <td>4</td>\n      <td>2014</td>\n      <td>38</td>\n      <td>8</td>\n      <td>8</td>\n      <td>22</td>\n      <td>35</td>\n      <td>64</td>\n      <td>-29</td>\n      <td>19</td>\n    </tr>\n    <tr>\n      <th>3</th>\n      <td>11</td>\n      <td>2010</td>\n      <td>38</td>\n      <td>18</td>\n      <td>4</td>\n      <td>16</td>\n      <td>59</td>\n      <td>55</td>\n      <td>4</td>\n      <td>6</td>\n    </tr>\n    <tr>\n      <th>4</th>\n      <td>11</td>\n      <td>2011</td>\n      <td>38</td>\n      <td>12</td>\n      <td>13</td>\n      <td>13</td>\n      <td>49</td>\n      <td>52</td>\n      <td>-3</td>\n      <td>10</td>\n    </tr>\n    <tr>\n      <th>...</th>\n      <td>...</td>\n      <td>...</td>\n      <td>...</td>\n      <td>...</td>\n      <td>...</td>\n      <td>...</td>\n      <td>...</td>\n      <td>...</td>\n      <td>...</td>\n      <td>...</td>\n    </tr>\n    <tr>\n      <th>195</th>\n      <td>157</td>\n      <td>2015</td>\n      <td>38</td>\n      <td>18</td>\n      <td>10</td>\n      <td>10</td>\n      <td>44</td>\n      <td>35</td>\n      <td>9</td>\n      <td>4</td>\n    </tr>\n    <tr>\n      <th>196</th>\n      <td>157</td>\n      <td>2016</td>\n      <td>38</td>\n      <td>19</td>\n      <td>10</td>\n      <td>9</td>\n      <td>56</td>\n      <td>33</td>\n      <td>23</td>\n      <td>5</td>\n    </tr>\n    <tr>\n      <th>197</th>\n      <td>157</td>\n      <td>2017</td>\n      <td>38</td>\n      <td>18</td>\n      <td>7</td>\n      <td>13</td>\n      <td>57</td>\n      <td>50</td>\n      <td>7</td>\n      <td>5</td>\n    </tr>\n    <tr>\n      <th>198</th>\n      <td>157</td>\n      <td>2018</td>\n      <td>38</td>\n      <td>10</td>\n      <td>14</td>\n      <td>14</td>\n      <td>49</td>\n      <td>52</td>\n      <td>-3</td>\n      <td>14</td>\n    </tr>\n    <tr>\n      <th>199</th>\n      <td>157</td>\n      <td>2019</td>\n      <td>38</td>\n      <td>18</td>\n      <td>6</td>\n      <td>14</td>\n      <td>63</td>\n      <td>49</td>\n      <td>14</td>\n      <td>5</td>\n    </tr>\n  </tbody>\n</table>\n<p>200 rows × 10 columns</p>\n</div>"
     },
     "metadata": {},
     "execution_count": 531
    }
   ],
   "source": [
    "pd.read_csv('cleaned_data/la-liga.csv')"
   ]
  },
  {
   "cell_type": "code",
   "execution_count": null,
   "metadata": {},
   "outputs": [],
   "source": []
  }
 ]
}